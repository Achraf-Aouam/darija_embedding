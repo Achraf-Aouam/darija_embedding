{
 "cells": [
  {
   "cell_type": "code",
   "execution_count": 1,
   "metadata": {},
   "outputs": [],
   "source": [
    "import zipfile\n",
    "import os"
   ]
  },
  {
   "cell_type": "code",
   "execution_count": 2,
   "metadata": {},
   "outputs": [],
   "source": [
    "\n",
    "\n",
    "def unzip_to_directory(zip_file_path, extract_directory):\n",
    "   \n",
    "    try:\n",
    "        with zipfile.ZipFile(zip_file_path, 'r') as zip_ref:\n",
    "            zip_ref.extractall(extract_directory)\n",
    "        print(f\"Successfully extracted '{zip_file_path}' to '{extract_directory}'\")\n",
    "    except FileNotFoundError:\n",
    "        print(f\"Error: Zip file not found at '{zip_file_path}'\")\n",
    "    except Exception as e:\n",
    "        print(f\"An error occurred: {e}\")\n",
    "\n",
    "\n",
    "zip_file = '/teamspace/studios/this_studio/zip/data.zip'  \n",
    "output_directory = '/teamspace/studios/this_studio/data/'  \n",
    "\n",
    "\n"
   ]
  },
  {
   "cell_type": "code",
   "execution_count": 3,
   "metadata": {},
   "outputs": [
    {
     "name": "stdout",
     "output_type": "stream",
     "text": [
      "Successfully extracted '/teamspace/studios/this_studio/zip/data.zip' to '/teamspace/studios/this_studio/data/'\n"
     ]
    }
   ],
   "source": [
    "os.makedirs(output_directory, exist_ok=True)\n",
    "\n",
    "unzip_to_directory(zip_file, output_directory)"
   ]
  }
 ],
 "metadata": {
  "language_info": {
   "name": "python"
  }
 },
 "nbformat": 4,
 "nbformat_minor": 2
}
